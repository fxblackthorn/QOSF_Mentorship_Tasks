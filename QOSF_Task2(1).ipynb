{
 "cells": [
  {
   "cell_type": "code",
   "execution_count": 1,
   "id": "617563ad-973d-4df2-901a-8e9a8fcf69c9",
   "metadata": {
    "tags": []
   },
   "outputs": [
    {
     "name": "stderr",
     "output_type": "stream",
     "text": [
      "qiskit_runtime_service.__init__:INFO:2024-03-24 15:30:05,304: Default instance: ibm-q/open/main\n"
     ]
    }
   ],
   "source": []
  },
  {
   "cell_type": "code",
   "execution_count": 2,
   "id": "1d461c5c-2497-4054-876f-7e570e50d810",
   "metadata": {
    "tags": []
   },
   "outputs": [
    {
     "name": "stderr",
     "output_type": "stream",
     "text": [
      "qiskit_runtime_service.__init__:INFO:2024-03-24 15:30:52,533: Default instance: ibm-q/open/main\n"
     ]
    }
   ],
   "source": [
    "# Importing standard Qiskit libraries\n",
    "from qiskit import *\n",
    "from qiskit_aer import AerSimulator\n",
    "from qiskit.visualization import *\n",
    "from ibm_quantum_widgets import *\n",
    "\n",
    "\n",
    "# qiskit-ibmq-provider has been deprecated.\n",
    "# Please see the Migration Guides in https://ibm.biz/provider_migration_guide for more detail.\n",
    "from qiskit_ibm_runtime import *\n",
    "\n",
    "# Loading your IBM Quantum account(s)\n",
    "service = QiskitRuntimeService(channel=\"ibm_quantum\")\n",
    "\n",
    "# Invoke a primitive. For more details see https://docs.quantum.ibm.com/run/primitives\n",
    "# result = Sampler().run(circuits).result()\n",
    "##############################################################################################################################\n",
    "def odd_to_even(max_range,given_list): #define the function\n",
    "    \n",
    "    qc = QuantumCircuit(len(given_list)) #define a quantum circuit with the length of given_list number of qubits\n",
    "    counter = 0 # define a counter to set up gates correctly\n",
    "    for number in (given_list):\n",
    "        for ancilla in range(number): # define an arbitrary variable called ancilla and create a loop to apply x gates (number in list) times to our counter variable qubit  \n",
    "            qc.x(counter) #apply x gates to needed qubit\n",
    "            \n",
    "        counter=counter+1 #pass to the other qubit in line\n",
    "        \n",
    "    ##run the algorithm on simple quantum simulation\n",
    "    qc.measure_all() \n",
    "    #qasm_backend = Aer.get_backend('qasm_simulator')\n",
    "    backend = AerSimulator()\n",
    "    job = backend.run(qc,shots=1)\n",
    "    counts = job.result().get_counts(qc)\n",
    "    # if the outcome of an experiment is 0=even if 1=odd\n",
    "    for ancilla in(counts):\n",
    "        normal_list=ancilla #define the odd and even list in another variable called normal_list\n",
    "    normal_list= normal_list[::-1] #take inverse of the list to make our job easier\n",
    "    # we do a sort algorithm to find minimum to get the mean(M)of numbers (M=(max_range+minimum)/2)\n",
    "    minimum=given_list[0]\n",
    "    for a in(given_list):\n",
    "        if (minimum>a):#use bubble sort to find minimum\n",
    "            minimum=a \n",
    "    \n",
    "    mean=(minimum+max_range)/2 #define the mean\n",
    "    \n",
    "    for counter in range(len(normal_list)): # create a loop for checking odd or even\n",
    "        if(normal_list[counter]==\"1\"): # if the number is odd\n",
    "             # if the number is less than M(mean), we add one to it; if it's greater than M, we subtract one from it\n",
    "            if(given_list[counter]<mean):\n",
    "                given_list[counter]=given_list[counter]+1 # if the odd number is less than the mean add one to it\n",
    "            if(given_list[counter]>mean):\n",
    "                given_list[counter]=given_list[counter]-1 # if the odd number is more than the mean subtract one from it\n",
    "    \n",
    "    return given_list #return the reshaped list"
   ]
  },
  {
   "cell_type": "code",
   "execution_count": null,
   "id": "c00084aa-e206-4dc5-8fc4-5d159abda257",
   "metadata": {},
   "outputs": [],
   "source": []
  }
 ],
 "metadata": {
  "kernelspec": {
   "display_name": "Qiskit v1.0.2 (ipykernel)",
   "language": "python",
   "name": "python3"
  },
  "language_info": {
   "codemirror_mode": {
    "name": "ipython",
    "version": 3
   },
   "file_extension": ".py",
   "mimetype": "text/x-python",
   "name": "python",
   "nbconvert_exporter": "python",
   "pygments_lexer": "ipython3",
   "version": "3.10.8"
  },
  "widgets": {
   "application/vnd.jupyter.widget-state+json": {
    "state": {},
    "version_major": 2,
    "version_minor": 0
   }
  }
 },
 "nbformat": 4,
 "nbformat_minor": 5
}
