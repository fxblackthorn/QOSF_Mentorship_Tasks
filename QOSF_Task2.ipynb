# Importing standard Qiskit libraries
from qiskit import *
from qiskit_aer import AerSimulator
from qiskit.visualization import *
from ibm_quantum_widgets import *


# qiskit-ibmq-provider has been deprecated.
# Please see the Migration Guides in https://ibm.biz/provider_migration_guide for more detail.
from qiskit_ibm_runtime import *

# Loading your IBM Quantum account(s)
service = QiskitRuntimeService(channel="ibm_quantum")

# Invoke a primitive. For more details see https://docs.quantum.ibm.com/run/primitives
# result = Sampler().run(circuits).result()
##############################################################################################################################
def odd_to_even(max_range,given_list): #define the function
    
    qc = QuantumCircuit(len(given_list)) #define a quantum circuit with the length of given_list number of qubits
    counter = 0 # define a counter to set up gates correctly
    for number in (given_list):
        for ancilla in range(number): # define an arbitrary variable called ancilla and create a loop to apply x gates (number in list) times to our counter variable qubit  
            qc.x(counter) #apply x gates to needed qubit
            
        counter=counter+1 #pass to the other qubit in line
        
    ##run the algorithm on simple quantum simulation
    qc.measure_all() 
    #qasm_backend = Aer.get_backend('qasm_simulator')
    backend = AerSimulator()
    job = backend.run(qc,shots=1)
    counts = job.result().get_counts(qc)
    # if the outcome of an experiment is 0=even if 1=odd
    for ancilla in(counts):
        normal_list=ancilla #define the odd and even list in another variable called normal_list
    normal_list= normal_list[::-1] #take inverse of the list to make our job easier
    # we do a sort algorithm to find minimum to get the mean(M)of numbers (M=(max_range+minimum)/2)
    minimum=given_list[0]
    for a in(given_list):
        if (minimum>a):#use bubble sort to find minimum
            minimum=a 
    
    mean=(minimum+max_range)/2 #define the mean
    
    for counter in range(len(normal_list)): # create a loop for checking odd or even
        if(normal_list[counter]=="1"): # if the number is odd
             # if the number is less than M(mean), we add one to it; if it's greater than M, we subtract one from it
            if(given_list[counter]<mean):
                given_list[counter]=given_list[counter]+1 # if the odd number is less than the mean add one to it
            if(given_list[counter]>mean):
                given_list[counter]=given_list[counter]-1 # if the odd number is more than the mean subtract one from it
    
    return given_list #return the reshaped list
